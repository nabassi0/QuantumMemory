{
 "cells": [
  {
   "cell_type": "code",
   "execution_count": 1,
   "id": "ae5b2d17",
   "metadata": {},
   "outputs": [
    {
     "name": "stdout",
     "output_type": "stream",
     "text": [
      "Test pour ton jeu :\n",
      "Niveau 1, Sous-niveau 3 (3 cartes sur grille 3x3) :\n",
      "Séquence: [3, 1, 3]\n",
      "\n",
      "Niveau 2, Sous-niveau 4 (4 cartes sur grille 4x4) :\n",
      "Séquence: [6, 3, 4, 14]\n"
     ]
    }
   ],
   "source": [
    "from qiskit import QuantumCircuit, transpile\n",
    "from qiskit.visualization import plot_histogram\n",
    "from qiskit_aer import AerSimulator\n",
    "\n",
    "class QuantumCircuitSimulator:\n",
    "    def __init__(self):\n",
    "        self.simulator= AerSimulator()\n",
    "    \n",
    "    def QuantumBitGenerator(self):\n",
    "        qc = QuantumCircuit(1, 1)\n",
    "        qc.h(0) # porte d'Hadamard pour créer une superposition\n",
    "        qc.measure(0, 0) # on mesure le qubit\n",
    "\n",
    "        compiled_circuit = transpile(qc, self.simulator)\n",
    "        result = self.simulator.run(compiled_circuit, shots=1).result()\n",
    "        counts = result.get_counts()\n",
    "\n",
    "        return int(list(counts.keys())[0])\n",
    "    \n",
    "    def DistributionTest(self, num_shots=1000):\n",
    "        results = []\n",
    "        for _ in range(num_shots):\n",
    "            bit = self.QuantumBitGenerator()\n",
    "            results.append(str(bit))\n",
    "    \n",
    "        counts = {'0': results.count('0'), '1': results.count('1')}\n",
    "        print(counts)\n",
    "        plot_histogram(counts)\n",
    "\n",
    "    def GenerateCardIndex(self, grid_size):\n",
    "        \"\"\"Génère UN index de carte entre 0 et grid_size-1\"\"\"\n",
    "        # Combine plusieurs bits quantiques pour avoir plus de 0 et 1\n",
    "        result = 0\n",
    "        num_bits = 4  # Assez pour grilles jusqu'à 16 cases\n",
    "        \n",
    "        for i in range(num_bits):\n",
    "            bit = self.QuantumBitGenerator()\n",
    "            result += bit * (2 ** i)\n",
    "        \n",
    "        # Restreint au bon range\n",
    "        return result % grid_size\n",
    "\n",
    "    def GenerateSequenceForGame(self, level, sublevel):\n",
    "        \"\"\"LA fonction principale pour ton jeu\"\"\"\n",
    "        # Tailles de grilles par niveau (max 5 niveaux)\n",
    "        grid_sizes = {1: 9, 2: 16, 3: 25, 4: 36, 5: 49}\n",
    "        grid_size = grid_sizes.get(level, 9)\n",
    "        \n",
    "        # Génère la séquence de cartes\n",
    "        sequence = []\n",
    "        for _ in range(sublevel):  # sublevel = nombre de cartes\n",
    "            card_index = self.GenerateCardIndex(grid_size)\n",
    "            sequence.append(card_index)\n",
    "        \n",
    "        return sequence\n",
    "\n",
    "# Tests\n",
    "sim = QuantumCircuitSimulator()\n",
    "\n",
    "print(\"Test pour ton jeu :\")\n",
    "print(\"Niveau 1, Sous-niveau 3 (3 cartes sur grille 3x3) :\")\n",
    "sequence = sim.GenerateSequenceForGame(1, 3)\n",
    "print(f\"Séquence: {sequence}\")\n",
    "\n",
    "print(\"\\nNiveau 2, Sous-niveau 4 (4 cartes sur grille 4x4) :\")\n",
    "sequence = sim.GenerateSequenceForGame(2, 4)\n",
    "print(f\"Séquence: {sequence}\")"
   ]
  }
 ],
 "metadata": {
  "kernelspec": {
   "display_name": "base",
   "language": "python",
   "name": "python3"
  },
  "language_info": {
   "codemirror_mode": {
    "name": "ipython",
    "version": 3
   },
   "file_extension": ".py",
   "mimetype": "text/x-python",
   "name": "python",
   "nbconvert_exporter": "python",
   "pygments_lexer": "ipython3",
   "version": "3.13.2"
  }
 },
 "nbformat": 4,
 "nbformat_minor": 5
}
