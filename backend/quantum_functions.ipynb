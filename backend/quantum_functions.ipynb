{
 "cells": [
  {
   "cell_type": "code",
   "execution_count": null,
   "id": "ae5b2d17",
   "metadata": {},
   "outputs": [
    {
     "name": "stdout",
     "output_type": "stream",
     "text": [
      "Test de génération de bits individuels :\n",
      "Bit 1: 1\n",
      "Bit 2: 0\n",
      "Bit 3: 0\n",
      "Bit 4: 0\n",
      "Bit 5: 0\n",
      "Bit 6: 1\n",
      "Bit 7: 0\n",
      "Bit 8: 1\n",
      "Bit 9: 0\n",
      "Bit 10: 0\n"
     ]
    }
   ],
   "source": [
    "from qiskit import QuantumCircuit, transpile\n",
    "from qiskit.visualization import plot_histogram\n",
    "from qiskit_aer import AerSimulator\n",
    "\n",
    "class QuantumCircuitSimulator:\n",
    "    def __init__(self):\n",
    "        self.simulator= AerSimulator()\n",
    "    \n",
    "    def QuantumBitGenerator(self):\n",
    "        qc = QuantumCircuit(1, 1)\n",
    "        qc.h(0) # porte d'Hadamard pour créer une superposition\n",
    "        qc.measure(0, 0) # on mesure le qubit\n",
    "\n",
    "        compiled_circuit = transpile(qc, self.simulator)\n",
    "        result = self.simulator.run(compiled_circuit, shots=1).result()\n",
    "        counts = result.get_counts()\n",
    "\n",
    "        return int(list(counts.keys())[0])\n",
    "    \n",
    "    def DistributionTest(self, num_shots=1000):\n",
    "        results = []\n",
    "        for _ in range(num_shots):\n",
    "            bit = self.QuantumBitGenerator()  # Réutilise la fonction !\n",
    "            results.append(str(bit))\n",
    "    \n",
    "        # Compter les résultats\n",
    "        counts = {'0': results.count('0'), '1': results.count('1')}\n",
    "        print(counts)\n",
    "        plot_histogram(counts)\n",
    "\n",
    "sim = QuantumCircuitSimulator()\n",
    "print(\"Test de génération de bits individuels :\")\n",
    "for i in range(10):\n",
    "    bit = sim.QuantumBitGenerator()\n",
    "    print(f\"Bit {i+1}: {bit}\")\n",
    "\n",
    "# 3. Test de vérification : les bits doivent être 0 ou 1\n",
    "print(\"\\nVérification que les résultats sont bien 0 ou 1 :\")\n",
    "test_bits = [sim.QuantumBitGenerator() for _ in range(20)]\n",
    "print(f\"Bits générés: {test_bits}\")\n",
    "print(f\"Tous les bits sont 0 ou 1: {all(bit in [0, 1] for bit in test_bits)}\")\n",
    "\n",
    "print(\"\\nTest de distribution sur 100 générations :\")\n",
    "results = [sim.QuantumBitGenerator() for _ in range(100)]\n",
    "count_0 = results.count(0)\n",
    "count_1 = results.count(1)\n",
    "print(f\"0: {count_0} fois ({count_0}%)\")\n",
    "print(f\"1: {count_1} fois ({count_1}%)\")\n",
    "print(f\"Total: {len(results)} bits\")"
   ]
  }
 ],
 "metadata": {
  "kernelspec": {
   "display_name": "base",
   "language": "python",
   "name": "python3"
  },
  "language_info": {
   "codemirror_mode": {
    "name": "ipython",
    "version": 3
   },
   "file_extension": ".py",
   "mimetype": "text/x-python",
   "name": "python",
   "nbconvert_exporter": "python",
   "pygments_lexer": "ipython3",
   "version": "3.13.2"
  }
 },
 "nbformat": 4,
 "nbformat_minor": 5
}
